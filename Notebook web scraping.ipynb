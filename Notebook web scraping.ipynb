{
 "cells": [
  {
   "cell_type": "markdown",
   "metadata": {},
   "source": [
    "# Perkenalan"
   ]
  },
  {
   "cell_type": "markdown",
   "metadata": {},
   "source": [
    "Nama  : Vicky Eldora Wuisan\n",
    "\n",
    "Program ini dibuat menganalysis data penjualan seblak dari ratingnya, harganya, banyak terjualnya, kota penjualnya. Untuk nantinya saya dapat berjualan seblak dengan mengetahui bagaimana marketnya di tokopedia agar saat berjualan nantinya saya sudah mengetahui harus dijual dengan harga berapa agar dapat laku dan menguntungkan. Data-data tersebut diambil dengan Web Scraping website tokopedia kategori seblak."
   ]
  },
  {
   "cell_type": "markdown",
   "metadata": {},
   "source": [
    "# Library"
   ]
  },
  {
   "cell_type": "code",
   "execution_count": 2,
   "metadata": {},
   "outputs": [
    {
     "name": "stdout",
     "output_type": "stream",
     "text": [
      "Requirement already satisfied: bs4 in c:\\programdata\\anaconda3\\lib\\site-packages (0.0.2)\n",
      "Requirement already satisfied: selenium in c:\\programdata\\anaconda3\\lib\\site-packages (4.18.1)\n",
      "Requirement already satisfied: beautifulsoup4 in c:\\programdata\\anaconda3\\lib\\site-packages (from bs4) (4.12.2)\n",
      "Requirement already satisfied: urllib3<3,>=1.26 in c:\\programdata\\anaconda3\\lib\\site-packages (from urllib3[socks]<3,>=1.26->selenium) (2.0.7)\n",
      "Requirement already satisfied: trio~=0.17 in c:\\programdata\\anaconda3\\lib\\site-packages (from selenium) (0.25.0)\n",
      "Requirement already satisfied: trio-websocket~=0.9 in c:\\programdata\\anaconda3\\lib\\site-packages (from selenium) (0.11.1)\n",
      "Requirement already satisfied: certifi>=2021.10.8 in c:\\programdata\\anaconda3\\lib\\site-packages (from selenium) (2024.2.2)\n",
      "Requirement already satisfied: typing_extensions>=4.9.0 in c:\\programdata\\anaconda3\\lib\\site-packages (from selenium) (4.9.0)\n",
      "Requirement already satisfied: attrs>=23.2.0 in c:\\programdata\\anaconda3\\lib\\site-packages (from trio~=0.17->selenium) (23.2.0)\n",
      "Requirement already satisfied: sortedcontainers in c:\\programdata\\anaconda3\\lib\\site-packages (from trio~=0.17->selenium) (2.4.0)\n",
      "Requirement already satisfied: idna in c:\\programdata\\anaconda3\\lib\\site-packages (from trio~=0.17->selenium) (3.4)\n",
      "Requirement already satisfied: outcome in c:\\programdata\\anaconda3\\lib\\site-packages (from trio~=0.17->selenium) (1.3.0.post0)\n",
      "Requirement already satisfied: sniffio>=1.3.0 in c:\\programdata\\anaconda3\\lib\\site-packages (from trio~=0.17->selenium) (1.3.0)\n",
      "Requirement already satisfied: cffi>=1.14 in c:\\programdata\\anaconda3\\lib\\site-packages (from trio~=0.17->selenium) (1.16.0)\n",
      "Requirement already satisfied: wsproto>=0.14 in c:\\programdata\\anaconda3\\lib\\site-packages (from trio-websocket~=0.9->selenium) (1.2.0)\n",
      "Requirement already satisfied: pysocks!=1.5.7,<2.0,>=1.5.6 in c:\\programdata\\anaconda3\\lib\\site-packages (from urllib3[socks]<3,>=1.26->selenium) (1.7.1)\n",
      "Requirement already satisfied: soupsieve>1.2 in c:\\programdata\\anaconda3\\lib\\site-packages (from beautifulsoup4->bs4) (2.5)\n",
      "Requirement already satisfied: pycparser in c:\\programdata\\anaconda3\\lib\\site-packages (from cffi>=1.14->trio~=0.17->selenium) (2.21)\n",
      "Requirement already satisfied: h11<1,>=0.9.0 in c:\\programdata\\anaconda3\\lib\\site-packages (from wsproto>=0.14->trio-websocket~=0.9->selenium) (0.14.0)\n",
      "Note: you may need to restart the kernel to use updated packages.\n"
     ]
    }
   ],
   "source": [
    "pip install bs4 selenium"
   ]
  },
  {
   "cell_type": "code",
   "execution_count": 4,
   "metadata": {},
   "outputs": [
    {
     "name": "stdout",
     "output_type": "stream",
     "text": [
      "Requirement already satisfied: requests in c:\\programdata\\anaconda3\\lib\\site-packages (2.31.0)\n",
      "Requirement already satisfied: charset-normalizer<4,>=2 in c:\\programdata\\anaconda3\\lib\\site-packages (from requests) (2.0.4)\n",
      "Requirement already satisfied: idna<4,>=2.5 in c:\\programdata\\anaconda3\\lib\\site-packages (from requests) (3.4)\n",
      "Requirement already satisfied: urllib3<3,>=1.21.1 in c:\\programdata\\anaconda3\\lib\\site-packages (from requests) (2.0.7)\n",
      "Requirement already satisfied: certifi>=2017.4.17 in c:\\programdata\\anaconda3\\lib\\site-packages (from requests) (2024.2.2)\n",
      "Note: you may need to restart the kernel to use updated packages.\n"
     ]
    }
   ],
   "source": [
    "pip install requests"
   ]
  },
  {
   "cell_type": "code",
   "execution_count": 3,
   "metadata": {},
   "outputs": [],
   "source": [
    "# import library\n",
    "import pandas as pd\n",
    "from bs4 import BeautifulSoup\n",
    "from selenium import webdriver\n",
    "import time\n",
    "from scipy import stats\n",
    "import numpy as np\n",
    "import matplotlib.pyplot as plt\n",
    "import seaborn as sns"
   ]
  },
  {
   "cell_type": "markdown",
   "metadata": {},
   "source": [
    "# A. Web Scraping"
   ]
  },
  {
   "cell_type": "code",
   "execution_count": 141,
   "metadata": {},
   "outputs": [],
   "source": [
    "url=\"https://www.tokopedia.com/search?navsource=&page=1&q=seblak&srp_component_id=02.01.00.00&srp_page_id=&srp_page_title=&st=\"\n",
    "driver = webdriver.Chrome()\n",
    "driver.get(url)\n",
    "\n",
    "html = driver.page_source\n",
    "soup = BeautifulSoup(html, \"html.parser\")\n",
    "\n",
    "print(soup.prettify()[:700])"
   ]
  },
  {
   "cell_type": "code",
   "execution_count": 142,
   "metadata": {},
   "outputs": [],
   "source": [
    "soup.find_all('div', {\"class\":\"prd_link-product-name css-3um8ox\"})"
   ]
  },
  {
   "cell_type": "code",
   "execution_count": 143,
   "metadata": {},
   "outputs": [],
   "source": [
    "Nama_Produk = []\n",
    "Harga_Produk = []\n",
    "Penjual = []\n",
    "Kota_Toko = []\n",
    "Banyaknya_Terjual = []\n",
    "Rating_Produk = []\n",
    "\n",
    "for i in range(1, 11):\n",
    "    url = \"https://www.tokopedia.com/search?navsource=&page={}&q=seblak&srp_component_id=02.01.00.00&srp_page_id=&srp_page_title=&st=\".format(i)\n",
    "    # Ekstrak halaman   \n",
    "    driver.get(url)\n",
    "    # kasih waktu buat looping\n",
    "    time.sleep(0.1)\n",
    "    # Ekstrak HTML\n",
    "    html = driver.page_source\n",
    "    soup = BeautifulSoup(html, \"html.parser\")\n",
    "\n",
    "    # Loop melalui setiap barang pada halaman\n",
    "    for seblak in soup.find_all('div', {\"class\": \"css-1asz3by\"}):\n",
    "        try:\n",
    "            Nama_Produk.append(seblak.find('div', {\"class\":\"prd_link-product-name css-3um8ox\"}).get_text())\n",
    "        except AttributeError:\n",
    "            Nama_Produk.append(None)\n",
    "        try:\n",
    "            Harga_Produk.append(seblak.find('div', {\"class\":\"prd_link-product-price css-h66vau\"}).get_text())\n",
    "        except AttributeError:\n",
    "            Harga_Produk.append(None)\n",
    "        try:\n",
    "            Penjual.append(seblak.find('span',{\"class\":\"prd_link-shop-name css-1kdc32b flip\"}).get_text())\n",
    "        except AttributeError:\n",
    "            Penjual.append(None)\n",
    "        try:\n",
    "            Kota_Toko.append(seblak.find('span',{\"class\":\"prd_link-shop-loc css-1kdc32b flip\"}).get_text())\n",
    "        except AttributeError:\n",
    "            Kota_Toko.append(None)\n",
    "        try:\n",
    "            Banyaknya_Terjual.append(seblak.find('span',{\"class\":\"prd_label-integrity css-1sgek4h\"}).get_text())\n",
    "        except AttributeError:\n",
    "            Banyaknya_Terjual.append(None)\n",
    "        try:\n",
    "            Rating_Produk.append(seblak.find('span',{\"class\":\"prd_rating-average-text css-t70v7i\"}).get_text())\n",
    "        except AttributeError:\n",
    "            Rating_Produk.append(None)\n"
   ]
  },
  {
   "cell_type": "code",
   "execution_count": 144,
   "metadata": {},
   "outputs": [],
   "source": [
    "# Buat dataframe kosong\n",
    "df = pd.DataFrame()\n",
    "\n",
    "# Isi dataframe hasil webscraping\n",
    "df['Nama_Produk'] = Nama_Produk\n",
    "df['Harga_Produk'] = Harga_Produk\n",
    "df['Penjual'] = Penjual\n",
    "df['Kota_Toko'] = Kota_Toko\n",
    "df['Banyaknya_Terjual'] = Banyaknya_Terjual\n",
    "df['Rating_Produk'] = Rating_Produk\n",
    "\n",
    "df"
   ]
  },
  {
   "cell_type": "markdown",
   "metadata": {},
   "source": [
    "# B. Data Preparation"
   ]
  },
  {
   "cell_type": "code",
   "execution_count": 146,
   "metadata": {},
   "outputs": [],
   "source": [
    "df.to_csv('P0G3_vicky_eldora',index=False)"
   ]
  },
  {
   "cell_type": "code",
   "execution_count": 5,
   "metadata": {},
   "outputs": [
    {
     "data": {
      "text/html": [
       "<div>\n",
       "<style scoped>\n",
       "    .dataframe tbody tr th:only-of-type {\n",
       "        vertical-align: middle;\n",
       "    }\n",
       "\n",
       "    .dataframe tbody tr th {\n",
       "        vertical-align: top;\n",
       "    }\n",
       "\n",
       "    .dataframe thead th {\n",
       "        text-align: right;\n",
       "    }\n",
       "</style>\n",
       "<table border=\"1\" class=\"dataframe\">\n",
       "  <thead>\n",
       "    <tr style=\"text-align: right;\">\n",
       "      <th></th>\n",
       "      <th>Nama_Produk</th>\n",
       "      <th>Harga_Produk</th>\n",
       "      <th>Penjual</th>\n",
       "      <th>Kota_Toko</th>\n",
       "      <th>Banyaknya_Terjual</th>\n",
       "      <th>Rating_Produk</th>\n",
       "    </tr>\n",
       "  </thead>\n",
       "  <tbody>\n",
       "    <tr>\n",
       "      <th>0</th>\n",
       "      <td>Kylafood Seblak karuhun</td>\n",
       "      <td>Rp11.880</td>\n",
       "      <td>NaN</td>\n",
       "      <td>NaN</td>\n",
       "      <td>4 rb+ terjual</td>\n",
       "      <td>4.8</td>\n",
       "    </tr>\n",
       "    <tr>\n",
       "      <th>1</th>\n",
       "      <td>Kylafood Seblak Mie Baso Sapi Play</td>\n",
       "      <td>Rp24.200</td>\n",
       "      <td>NaN</td>\n",
       "      <td>NaN</td>\n",
       "      <td>250+ terjual</td>\n",
       "      <td>4.9</td>\n",
       "    </tr>\n",
       "    <tr>\n",
       "      <th>2</th>\n",
       "      <td>Kylafood Mix Fav Selebgram Seblak Original &amp; B...</td>\n",
       "      <td>Rp44.340</td>\n",
       "      <td>NaN</td>\n",
       "      <td>NaN</td>\n",
       "      <td>100+ terjual</td>\n",
       "      <td>4.8</td>\n",
       "    </tr>\n",
       "    <tr>\n",
       "      <th>3</th>\n",
       "      <td>Kylafood Seblak Original</td>\n",
       "      <td>Rp15.750</td>\n",
       "      <td>kylafood</td>\n",
       "      <td>Bandung</td>\n",
       "      <td>10rb+ terjual</td>\n",
       "      <td>4.9</td>\n",
       "    </tr>\n",
       "    <tr>\n",
       "      <th>4</th>\n",
       "      <td>Geli Food Seblak Ceker Tanpa Tulang Super Peda...</td>\n",
       "      <td>Rp24.000</td>\n",
       "      <td>Lidigeli</td>\n",
       "      <td>Kab. Garut</td>\n",
       "      <td>100+ terjual</td>\n",
       "      <td>4.8</td>\n",
       "    </tr>\n",
       "    <tr>\n",
       "      <th>...</th>\n",
       "      <td>...</td>\n",
       "      <td>...</td>\n",
       "      <td>...</td>\n",
       "      <td>...</td>\n",
       "      <td>...</td>\n",
       "      <td>...</td>\n",
       "    </tr>\n",
       "    <tr>\n",
       "      <th>362</th>\n",
       "      <td>[250 gr] Kerupuk Seblak Pedas</td>\n",
       "      <td>Rp11.500</td>\n",
       "      <td>CamilanJati</td>\n",
       "      <td>Kab. Sidoarjo</td>\n",
       "      <td>50+ terjual</td>\n",
       "      <td>5.0</td>\n",
       "    </tr>\n",
       "    <tr>\n",
       "      <th>363</th>\n",
       "      <td>Gelifood Seblak Instan Kerupuk Mawar Bumbu Ken...</td>\n",
       "      <td>Rp15.000</td>\n",
       "      <td>Lidigeli</td>\n",
       "      <td>Kab. Garut</td>\n",
       "      <td>250+ terjual</td>\n",
       "      <td>4.8</td>\n",
       "    </tr>\n",
       "    <tr>\n",
       "      <th>364</th>\n",
       "      <td>Geli Food Seblak Ceker Tanpa Tulang Super Peda...</td>\n",
       "      <td>Rp24.000</td>\n",
       "      <td>Lidigeli</td>\n",
       "      <td>Kab. Garut</td>\n",
       "      <td>100+ terjual</td>\n",
       "      <td>4.8</td>\n",
       "    </tr>\n",
       "    <tr>\n",
       "      <th>365</th>\n",
       "      <td>Seblak Instan Komplit Pedas Gurih Nikmat</td>\n",
       "      <td>Rp5.999</td>\n",
       "      <td>Baso Aci Ayang</td>\n",
       "      <td>Kab. Garut</td>\n",
       "      <td>3rb+ terjual</td>\n",
       "      <td>4.9</td>\n",
       "    </tr>\n",
       "    <tr>\n",
       "      <th>366</th>\n",
       "      <td>Seblak Instan Pedas Home Made</td>\n",
       "      <td>Rp3.500</td>\n",
       "      <td>the Dhecip</td>\n",
       "      <td>Tangerang Selatan</td>\n",
       "      <td>3rb+ terjual</td>\n",
       "      <td>4.9</td>\n",
       "    </tr>\n",
       "  </tbody>\n",
       "</table>\n",
       "<p>367 rows × 6 columns</p>\n",
       "</div>"
      ],
      "text/plain": [
       "                                           Nama_Produk Harga_Produk  \\\n",
       "0                              Kylafood Seblak karuhun     Rp11.880   \n",
       "1                   Kylafood Seblak Mie Baso Sapi Play     Rp24.200   \n",
       "2    Kylafood Mix Fav Selebgram Seblak Original & B...     Rp44.340   \n",
       "3                             Kylafood Seblak Original     Rp15.750   \n",
       "4    Geli Food Seblak Ceker Tanpa Tulang Super Peda...     Rp24.000   \n",
       "..                                                 ...          ...   \n",
       "362                      [250 gr] Kerupuk Seblak Pedas     Rp11.500   \n",
       "363  Gelifood Seblak Instan Kerupuk Mawar Bumbu Ken...     Rp15.000   \n",
       "364  Geli Food Seblak Ceker Tanpa Tulang Super Peda...     Rp24.000   \n",
       "365           Seblak Instan Komplit Pedas Gurih Nikmat      Rp5.999   \n",
       "366                      Seblak Instan Pedas Home Made      Rp3.500   \n",
       "\n",
       "            Penjual          Kota_Toko Banyaknya_Terjual  Rating_Produk  \n",
       "0               NaN                NaN     4 rb+ terjual            4.8  \n",
       "1               NaN                NaN      250+ terjual            4.9  \n",
       "2               NaN                NaN      100+ terjual            4.8  \n",
       "3          kylafood            Bandung     10rb+ terjual            4.9  \n",
       "4          Lidigeli         Kab. Garut      100+ terjual            4.8  \n",
       "..              ...                ...               ...            ...  \n",
       "362     CamilanJati      Kab. Sidoarjo       50+ terjual            5.0  \n",
       "363        Lidigeli         Kab. Garut      250+ terjual            4.8  \n",
       "364        Lidigeli         Kab. Garut      100+ terjual            4.8  \n",
       "365  Baso Aci Ayang         Kab. Garut      3rb+ terjual            4.9  \n",
       "366      the Dhecip  Tangerang Selatan      3rb+ terjual            4.9  \n",
       "\n",
       "[367 rows x 6 columns]"
      ]
     },
     "execution_count": 5,
     "metadata": {},
     "output_type": "execute_result"
    }
   ],
   "source": [
    "# menampilkan data\n",
    "df = pd.read_csv('P0G3_vicky_eldora.csv')\n",
    "df"
   ]
  },
  {
   "cell_type": "markdown",
   "metadata": {},
   "source": [
    "## 1. Eksplorasi data sederhana"
   ]
  },
  {
   "cell_type": "code",
   "execution_count": 6,
   "metadata": {},
   "outputs": [
    {
     "data": {
      "text/html": [
       "<div>\n",
       "<style scoped>\n",
       "    .dataframe tbody tr th:only-of-type {\n",
       "        vertical-align: middle;\n",
       "    }\n",
       "\n",
       "    .dataframe tbody tr th {\n",
       "        vertical-align: top;\n",
       "    }\n",
       "\n",
       "    .dataframe thead th {\n",
       "        text-align: right;\n",
       "    }\n",
       "</style>\n",
       "<table border=\"1\" class=\"dataframe\">\n",
       "  <thead>\n",
       "    <tr style=\"text-align: right;\">\n",
       "      <th></th>\n",
       "      <th>Nama_Produk</th>\n",
       "      <th>Harga_Produk</th>\n",
       "      <th>Penjual</th>\n",
       "      <th>Kota_Toko</th>\n",
       "      <th>Banyaknya_Terjual</th>\n",
       "      <th>Rating_Produk</th>\n",
       "    </tr>\n",
       "  </thead>\n",
       "  <tbody>\n",
       "    <tr>\n",
       "      <th>0</th>\n",
       "      <td>Kylafood Seblak karuhun</td>\n",
       "      <td>Rp11.880</td>\n",
       "      <td>NaN</td>\n",
       "      <td>NaN</td>\n",
       "      <td>4 rb+ terjual</td>\n",
       "      <td>4.8</td>\n",
       "    </tr>\n",
       "    <tr>\n",
       "      <th>1</th>\n",
       "      <td>Kylafood Seblak Mie Baso Sapi Play</td>\n",
       "      <td>Rp24.200</td>\n",
       "      <td>NaN</td>\n",
       "      <td>NaN</td>\n",
       "      <td>250+ terjual</td>\n",
       "      <td>4.9</td>\n",
       "    </tr>\n",
       "    <tr>\n",
       "      <th>2</th>\n",
       "      <td>Kylafood Mix Fav Selebgram Seblak Original &amp; B...</td>\n",
       "      <td>Rp44.340</td>\n",
       "      <td>NaN</td>\n",
       "      <td>NaN</td>\n",
       "      <td>100+ terjual</td>\n",
       "      <td>4.8</td>\n",
       "    </tr>\n",
       "    <tr>\n",
       "      <th>3</th>\n",
       "      <td>Kylafood Seblak Original</td>\n",
       "      <td>Rp15.750</td>\n",
       "      <td>kylafood</td>\n",
       "      <td>Bandung</td>\n",
       "      <td>10rb+ terjual</td>\n",
       "      <td>4.9</td>\n",
       "    </tr>\n",
       "    <tr>\n",
       "      <th>4</th>\n",
       "      <td>Geli Food Seblak Ceker Tanpa Tulang Super Peda...</td>\n",
       "      <td>Rp24.000</td>\n",
       "      <td>Lidigeli</td>\n",
       "      <td>Kab. Garut</td>\n",
       "      <td>100+ terjual</td>\n",
       "      <td>4.8</td>\n",
       "    </tr>\n",
       "    <tr>\n",
       "      <th>5</th>\n",
       "      <td>Seblak Rafael/Seblak Coet Instan Halal</td>\n",
       "      <td>Rp26.600</td>\n",
       "      <td>Foodstocks</td>\n",
       "      <td>Jakarta Selatan</td>\n",
       "      <td>60+ terjual</td>\n",
       "      <td>5.0</td>\n",
       "    </tr>\n",
       "    <tr>\n",
       "      <th>6</th>\n",
       "      <td>Seblak Instan Kenyang Murah Asli Bandung Resel...</td>\n",
       "      <td>Rp7.138</td>\n",
       "      <td>Berkah Food Bandung</td>\n",
       "      <td>Cimahi</td>\n",
       "      <td>7rb+ terjual</td>\n",
       "      <td>4.9</td>\n",
       "    </tr>\n",
       "  </tbody>\n",
       "</table>\n",
       "</div>"
      ],
      "text/plain": [
       "                                         Nama_Produk Harga_Produk  \\\n",
       "0                            Kylafood Seblak karuhun     Rp11.880   \n",
       "1                 Kylafood Seblak Mie Baso Sapi Play     Rp24.200   \n",
       "2  Kylafood Mix Fav Selebgram Seblak Original & B...     Rp44.340   \n",
       "3                           Kylafood Seblak Original     Rp15.750   \n",
       "4  Geli Food Seblak Ceker Tanpa Tulang Super Peda...     Rp24.000   \n",
       "5             Seblak Rafael/Seblak Coet Instan Halal     Rp26.600   \n",
       "6  Seblak Instan Kenyang Murah Asli Bandung Resel...      Rp7.138   \n",
       "\n",
       "               Penjual        Kota_Toko Banyaknya_Terjual  Rating_Produk  \n",
       "0                  NaN              NaN     4 rb+ terjual            4.8  \n",
       "1                  NaN              NaN      250+ terjual            4.9  \n",
       "2                  NaN              NaN      100+ terjual            4.8  \n",
       "3             kylafood          Bandung     10rb+ terjual            4.9  \n",
       "4             Lidigeli       Kab. Garut      100+ terjual            4.8  \n",
       "5           Foodstocks  Jakarta Selatan       60+ terjual            5.0  \n",
       "6  Berkah Food Bandung           Cimahi      7rb+ terjual            4.9  "
      ]
     },
     "execution_count": 6,
     "metadata": {},
     "output_type": "execute_result"
    }
   ],
   "source": [
    "# menampilkan beberapa baris data\n",
    "df.head(7)"
   ]
  },
  {
   "cell_type": "markdown",
   "metadata": {},
   "source": [
    "Dari beberapa baris data terdapat banyak nama produk dari seblak seperti seblak rafael, seblak ceker, seblak mie baso. Harga produk yang beragam juga dari paling murah Rp 7.138 dan termahal Rp44.340. Tidak semua produk terdapat nama penjual dan kota toko, Produk yang terjual ada yang mencapai ribuan, dari data saya lihat harga produk yang mahal terjualnya tidak sebanyak harga yang murah dan rating dari produk paling kecil 4.8."
   ]
  },
  {
   "cell_type": "code",
   "execution_count": 7,
   "metadata": {},
   "outputs": [
    {
     "name": "stdout",
     "output_type": "stream",
     "text": [
      "<class 'pandas.core.frame.DataFrame'>\n",
      "RangeIndex: 367 entries, 0 to 366\n",
      "Data columns (total 6 columns):\n",
      " #   Column             Non-Null Count  Dtype  \n",
      "---  ------             --------------  -----  \n",
      " 0   Nama_Produk        367 non-null    object \n",
      " 1   Harga_Produk       367 non-null    object \n",
      " 2   Penjual            350 non-null    object \n",
      " 3   Kota_Toko          350 non-null    object \n",
      " 4   Banyaknya_Terjual  367 non-null    object \n",
      " 5   Rating_Produk      357 non-null    float64\n",
      "dtypes: float64(1), object(5)\n",
      "memory usage: 17.3+ KB\n"
     ]
    }
   ],
   "source": [
    "# menampilkan ringkasan singkat tentang data saya, rangeindex, total kolom, nama kolom, berupa jumlah nilai bukan nol di setiap kolom dan tipe data kolom\n",
    "df.info()"
   ]
  },
  {
   "cell_type": "code",
   "execution_count": 8,
   "metadata": {},
   "outputs": [
    {
     "data": {
      "text/plain": [
       "Nama_Produk           object\n",
       "Harga_Produk          object\n",
       "Penjual               object\n",
       "Kota_Toko             object\n",
       "Banyaknya_Terjual     object\n",
       "Rating_Produk        float64\n",
       "dtype: object"
      ]
     },
     "execution_count": 8,
     "metadata": {},
     "output_type": "execute_result"
    }
   ],
   "source": [
    "# menampilkan jenis types data\n",
    "df.dtypes"
   ]
  },
  {
   "cell_type": "markdown",
   "metadata": {},
   "source": [
    "Data yang saya dapat setelah webscraping sebanyak 367 data. Dari tipe data ada yang masih belum sesuai seperti harga produk dan banyaknya terjual harusnya berupa tipe data integer atau float, langkah selanjutnya adalah saya akan mengubah tipe data tersebut terlebih dahulu. Kemudian melakukan cleaning data pada langkah selanjutnya"
   ]
  },
  {
   "cell_type": "code",
   "execution_count": 9,
   "metadata": {},
   "outputs": [
    {
     "data": {
      "text/plain": [
       "Nama_Produk           0\n",
       "Harga_Produk          0\n",
       "Penjual              17\n",
       "Kota_Toko            17\n",
       "Banyaknya_Terjual     0\n",
       "Rating_Produk        10\n",
       "dtype: int64"
      ]
     },
     "execution_count": 9,
     "metadata": {},
     "output_type": "execute_result"
    }
   ],
   "source": [
    "# cek missing value\n",
    "df.isnull().sum()"
   ]
  },
  {
   "cell_type": "markdown",
   "metadata": {},
   "source": [
    "karena masih terdapat missing value pada kolom penjual, kota toko, dan rating produk, langkah selanjutnya adalah mengdrop missing value tersebut dengan df.dropna()"
   ]
  },
  {
   "cell_type": "markdown",
   "metadata": {},
   "source": [
    "## 2. Data Cleaning"
   ]
  },
  {
   "cell_type": "code",
   "execution_count": 10,
   "metadata": {},
   "outputs": [],
   "source": [
    "# hapus missing value\n",
    "df = df.dropna()"
   ]
  },
  {
   "cell_type": "code",
   "execution_count": 11,
   "metadata": {},
   "outputs": [
    {
     "data": {
      "text/plain": [
       "Nama_Produk          0\n",
       "Harga_Produk         0\n",
       "Penjual              0\n",
       "Kota_Toko            0\n",
       "Banyaknya_Terjual    0\n",
       "Rating_Produk        0\n",
       "dtype: int64"
      ]
     },
     "execution_count": 11,
     "metadata": {},
     "output_type": "execute_result"
    }
   ],
   "source": [
    "#cek missing value lagi ---> sudah tidak ada lagi missing value\n",
    "df.isnull().sum()"
   ]
  },
  {
   "cell_type": "code",
   "execution_count": 12,
   "metadata": {},
   "outputs": [],
   "source": [
    "# menghapus data duplicates\n",
    "df = df.drop_duplicates()"
   ]
  },
  {
   "cell_type": "code",
   "execution_count": 13,
   "metadata": {},
   "outputs": [
    {
     "data": {
      "text/html": [
       "<div>\n",
       "<style scoped>\n",
       "    .dataframe tbody tr th:only-of-type {\n",
       "        vertical-align: middle;\n",
       "    }\n",
       "\n",
       "    .dataframe tbody tr th {\n",
       "        vertical-align: top;\n",
       "    }\n",
       "\n",
       "    .dataframe thead th {\n",
       "        text-align: right;\n",
       "    }\n",
       "</style>\n",
       "<table border=\"1\" class=\"dataframe\">\n",
       "  <thead>\n",
       "    <tr style=\"text-align: right;\">\n",
       "      <th></th>\n",
       "      <th>Nama_Produk</th>\n",
       "      <th>Harga_Produk</th>\n",
       "      <th>Penjual</th>\n",
       "      <th>Kota_Toko</th>\n",
       "      <th>Banyaknya_Terjual</th>\n",
       "      <th>Rating_Produk</th>\n",
       "    </tr>\n",
       "  </thead>\n",
       "  <tbody>\n",
       "    <tr>\n",
       "      <th>3</th>\n",
       "      <td>Kylafood Seblak Original</td>\n",
       "      <td>Rp15.750</td>\n",
       "      <td>kylafood</td>\n",
       "      <td>Bandung</td>\n",
       "      <td>10rb+ terjual</td>\n",
       "      <td>4.9</td>\n",
       "    </tr>\n",
       "    <tr>\n",
       "      <th>4</th>\n",
       "      <td>Geli Food Seblak Ceker Tanpa Tulang Super Peda...</td>\n",
       "      <td>Rp24.000</td>\n",
       "      <td>Lidigeli</td>\n",
       "      <td>Kab. Garut</td>\n",
       "      <td>100+ terjual</td>\n",
       "      <td>4.8</td>\n",
       "    </tr>\n",
       "    <tr>\n",
       "      <th>5</th>\n",
       "      <td>Seblak Rafael/Seblak Coet Instan Halal</td>\n",
       "      <td>Rp26.600</td>\n",
       "      <td>Foodstocks</td>\n",
       "      <td>Jakarta Selatan</td>\n",
       "      <td>60+ terjual</td>\n",
       "      <td>5.0</td>\n",
       "    </tr>\n",
       "    <tr>\n",
       "      <th>6</th>\n",
       "      <td>Seblak Instan Kenyang Murah Asli Bandung Resel...</td>\n",
       "      <td>Rp7.138</td>\n",
       "      <td>Berkah Food Bandung</td>\n",
       "      <td>Cimahi</td>\n",
       "      <td>7rb+ terjual</td>\n",
       "      <td>4.9</td>\n",
       "    </tr>\n",
       "    <tr>\n",
       "      <th>7</th>\n",
       "      <td>SEBLAK INSTAN MOMMY</td>\n",
       "      <td>Rp13.900</td>\n",
       "      <td>Rav Jaya Display</td>\n",
       "      <td>Kab. Tangerang</td>\n",
       "      <td>1rb+ terjual</td>\n",
       "      <td>4.8</td>\n",
       "    </tr>\n",
       "    <tr>\n",
       "      <th>...</th>\n",
       "      <td>...</td>\n",
       "      <td>...</td>\n",
       "      <td>...</td>\n",
       "      <td>...</td>\n",
       "      <td>...</td>\n",
       "      <td>...</td>\n",
       "    </tr>\n",
       "    <tr>\n",
       "      <th>306</th>\n",
       "      <td>Seblak Koin Warna Odjolali Snack</td>\n",
       "      <td>Rp11.900</td>\n",
       "      <td>Odjolali Snack</td>\n",
       "      <td>Bandung</td>\n",
       "      <td>100+ terjual</td>\n",
       "      <td>5.0</td>\n",
       "    </tr>\n",
       "    <tr>\n",
       "      <th>337</th>\n",
       "      <td>SEBLAK INSTAN KOMPLIT</td>\n",
       "      <td>Rp6.500</td>\n",
       "      <td>Vandiva Kuliner</td>\n",
       "      <td>Kab. Malang</td>\n",
       "      <td>8 terjual</td>\n",
       "      <td>5.0</td>\n",
       "    </tr>\n",
       "    <tr>\n",
       "      <th>339</th>\n",
       "      <td>KriCa (Keripik Kaca)/ Seblak Beling / Keripik ...</td>\n",
       "      <td>Rp12.000</td>\n",
       "      <td>Garut Beunghar</td>\n",
       "      <td>Kab. Garut</td>\n",
       "      <td>40+ terjual</td>\n",
       "      <td>5.0</td>\n",
       "    </tr>\n",
       "    <tr>\n",
       "      <th>340</th>\n",
       "      <td>Kerupuk Seblak Pedas 200gr</td>\n",
       "      <td>Rp12.250</td>\n",
       "      <td>Utama.Snack</td>\n",
       "      <td>Surabaya</td>\n",
       "      <td>750+ terjual</td>\n",
       "      <td>4.9</td>\n",
       "    </tr>\n",
       "    <tr>\n",
       "      <th>341</th>\n",
       "      <td>Kylafood Paket 2 Seblak Cup + 2 Basreng pedas</td>\n",
       "      <td>Rp47.260</td>\n",
       "      <td>kylafood</td>\n",
       "      <td>Bandung</td>\n",
       "      <td>3 terjual</td>\n",
       "      <td>5.0</td>\n",
       "    </tr>\n",
       "  </tbody>\n",
       "</table>\n",
       "<p>91 rows × 6 columns</p>\n",
       "</div>"
      ],
      "text/plain": [
       "                                           Nama_Produk Harga_Produk  \\\n",
       "3                             Kylafood Seblak Original     Rp15.750   \n",
       "4    Geli Food Seblak Ceker Tanpa Tulang Super Peda...     Rp24.000   \n",
       "5               Seblak Rafael/Seblak Coet Instan Halal     Rp26.600   \n",
       "6    Seblak Instan Kenyang Murah Asli Bandung Resel...      Rp7.138   \n",
       "7                                  SEBLAK INSTAN MOMMY     Rp13.900   \n",
       "..                                                 ...          ...   \n",
       "306                   Seblak Koin Warna Odjolali Snack     Rp11.900   \n",
       "337                              SEBLAK INSTAN KOMPLIT      Rp6.500   \n",
       "339  KriCa (Keripik Kaca)/ Seblak Beling / Keripik ...     Rp12.000   \n",
       "340                         Kerupuk Seblak Pedas 200gr     Rp12.250   \n",
       "341      Kylafood Paket 2 Seblak Cup + 2 Basreng pedas     Rp47.260   \n",
       "\n",
       "                 Penjual        Kota_Toko Banyaknya_Terjual  Rating_Produk  \n",
       "3               kylafood          Bandung     10rb+ terjual            4.9  \n",
       "4               Lidigeli       Kab. Garut      100+ terjual            4.8  \n",
       "5             Foodstocks  Jakarta Selatan       60+ terjual            5.0  \n",
       "6    Berkah Food Bandung           Cimahi      7rb+ terjual            4.9  \n",
       "7       Rav Jaya Display   Kab. Tangerang      1rb+ terjual            4.8  \n",
       "..                   ...              ...               ...            ...  \n",
       "306       Odjolali Snack          Bandung      100+ terjual            5.0  \n",
       "337      Vandiva Kuliner      Kab. Malang         8 terjual            5.0  \n",
       "339       Garut Beunghar       Kab. Garut       40+ terjual            5.0  \n",
       "340          Utama.Snack         Surabaya      750+ terjual            4.9  \n",
       "341             kylafood          Bandung         3 terjual            5.0  \n",
       "\n",
       "[91 rows x 6 columns]"
      ]
     },
     "execution_count": 13,
     "metadata": {},
     "output_type": "execute_result"
    }
   ],
   "source": [
    "# data yang telah dihapus missing value dan duplicatesnya\n",
    "df"
   ]
  },
  {
   "cell_type": "code",
   "execution_count": 14,
   "metadata": {},
   "outputs": [],
   "source": [
    "# melakukan replace data \n",
    "df['Harga_Produk'] = df['Harga_Produk'].str.replace('Rp','').str.replace('.','')\n",
    "df['Banyaknya_Terjual'] = df['Banyaknya_Terjual'].str.replace('rb','000').str.replace(' ','').str.replace('+','').str.replace('terjual','')"
   ]
  },
  {
   "cell_type": "code",
   "execution_count": 15,
   "metadata": {},
   "outputs": [],
   "source": [
    "# merubah data type dari object menjadi float\n",
    "df['Harga_Produk'] = df['Harga_Produk'].astype(int)\n",
    "df['Banyaknya_Terjual'] = df['Banyaknya_Terjual'].astype(int)"
   ]
  },
  {
   "cell_type": "code",
   "execution_count": 16,
   "metadata": {},
   "outputs": [
    {
     "name": "stdout",
     "output_type": "stream",
     "text": [
      "<class 'pandas.core.frame.DataFrame'>\n",
      "Index: 91 entries, 3 to 341\n",
      "Data columns (total 6 columns):\n",
      " #   Column             Non-Null Count  Dtype  \n",
      "---  ------             --------------  -----  \n",
      " 0   Nama_Produk        91 non-null     object \n",
      " 1   Harga_Produk       91 non-null     int32  \n",
      " 2   Penjual            91 non-null     object \n",
      " 3   Kota_Toko          91 non-null     object \n",
      " 4   Banyaknya_Terjual  91 non-null     int32  \n",
      " 5   Rating_Produk      91 non-null     float64\n",
      "dtypes: float64(1), int32(2), object(3)\n",
      "memory usage: 4.3+ KB\n"
     ]
    }
   ],
   "source": [
    "# menampilkan informasi data dari data yang telah di cleaning\n",
    "df.info()"
   ]
  },
  {
   "cell_type": "markdown",
   "metadata": {},
   "source": [
    "tipe data sudah sesuai setelah dilakukan data cleaning"
   ]
  },
  {
   "cell_type": "code",
   "execution_count": 17,
   "metadata": {},
   "outputs": [
    {
     "data": {
      "text/html": [
       "<div>\n",
       "<style scoped>\n",
       "    .dataframe tbody tr th:only-of-type {\n",
       "        vertical-align: middle;\n",
       "    }\n",
       "\n",
       "    .dataframe tbody tr th {\n",
       "        vertical-align: top;\n",
       "    }\n",
       "\n",
       "    .dataframe thead th {\n",
       "        text-align: right;\n",
       "    }\n",
       "</style>\n",
       "<table border=\"1\" class=\"dataframe\">\n",
       "  <thead>\n",
       "    <tr style=\"text-align: right;\">\n",
       "      <th></th>\n",
       "      <th>Nama_Produk</th>\n",
       "      <th>Harga_Produk</th>\n",
       "      <th>Penjual</th>\n",
       "      <th>Kota_Toko</th>\n",
       "      <th>Banyaknya_Terjual</th>\n",
       "      <th>Rating_Produk</th>\n",
       "    </tr>\n",
       "  </thead>\n",
       "  <tbody>\n",
       "    <tr>\n",
       "      <th>3</th>\n",
       "      <td>Kylafood Seblak Original</td>\n",
       "      <td>15750</td>\n",
       "      <td>kylafood</td>\n",
       "      <td>Bandung</td>\n",
       "      <td>10000</td>\n",
       "      <td>4.9</td>\n",
       "    </tr>\n",
       "    <tr>\n",
       "      <th>4</th>\n",
       "      <td>Geli Food Seblak Ceker Tanpa Tulang Super Peda...</td>\n",
       "      <td>24000</td>\n",
       "      <td>Lidigeli</td>\n",
       "      <td>Kab. Garut</td>\n",
       "      <td>100</td>\n",
       "      <td>4.8</td>\n",
       "    </tr>\n",
       "    <tr>\n",
       "      <th>5</th>\n",
       "      <td>Seblak Rafael/Seblak Coet Instan Halal</td>\n",
       "      <td>26600</td>\n",
       "      <td>Foodstocks</td>\n",
       "      <td>Jakarta Selatan</td>\n",
       "      <td>60</td>\n",
       "      <td>5.0</td>\n",
       "    </tr>\n",
       "    <tr>\n",
       "      <th>6</th>\n",
       "      <td>Seblak Instan Kenyang Murah Asli Bandung Resel...</td>\n",
       "      <td>7138</td>\n",
       "      <td>Berkah Food Bandung</td>\n",
       "      <td>Cimahi</td>\n",
       "      <td>7000</td>\n",
       "      <td>4.9</td>\n",
       "    </tr>\n",
       "    <tr>\n",
       "      <th>7</th>\n",
       "      <td>SEBLAK INSTAN MOMMY</td>\n",
       "      <td>13900</td>\n",
       "      <td>Rav Jaya Display</td>\n",
       "      <td>Kab. Tangerang</td>\n",
       "      <td>1000</td>\n",
       "      <td>4.8</td>\n",
       "    </tr>\n",
       "    <tr>\n",
       "      <th>...</th>\n",
       "      <td>...</td>\n",
       "      <td>...</td>\n",
       "      <td>...</td>\n",
       "      <td>...</td>\n",
       "      <td>...</td>\n",
       "      <td>...</td>\n",
       "    </tr>\n",
       "    <tr>\n",
       "      <th>306</th>\n",
       "      <td>Seblak Koin Warna Odjolali Snack</td>\n",
       "      <td>11900</td>\n",
       "      <td>Odjolali Snack</td>\n",
       "      <td>Bandung</td>\n",
       "      <td>100</td>\n",
       "      <td>5.0</td>\n",
       "    </tr>\n",
       "    <tr>\n",
       "      <th>337</th>\n",
       "      <td>SEBLAK INSTAN KOMPLIT</td>\n",
       "      <td>6500</td>\n",
       "      <td>Vandiva Kuliner</td>\n",
       "      <td>Kab. Malang</td>\n",
       "      <td>8</td>\n",
       "      <td>5.0</td>\n",
       "    </tr>\n",
       "    <tr>\n",
       "      <th>339</th>\n",
       "      <td>KriCa (Keripik Kaca)/ Seblak Beling / Keripik ...</td>\n",
       "      <td>12000</td>\n",
       "      <td>Garut Beunghar</td>\n",
       "      <td>Kab. Garut</td>\n",
       "      <td>40</td>\n",
       "      <td>5.0</td>\n",
       "    </tr>\n",
       "    <tr>\n",
       "      <th>340</th>\n",
       "      <td>Kerupuk Seblak Pedas 200gr</td>\n",
       "      <td>12250</td>\n",
       "      <td>Utama.Snack</td>\n",
       "      <td>Surabaya</td>\n",
       "      <td>750</td>\n",
       "      <td>4.9</td>\n",
       "    </tr>\n",
       "    <tr>\n",
       "      <th>341</th>\n",
       "      <td>Kylafood Paket 2 Seblak Cup + 2 Basreng pedas</td>\n",
       "      <td>47260</td>\n",
       "      <td>kylafood</td>\n",
       "      <td>Bandung</td>\n",
       "      <td>3</td>\n",
       "      <td>5.0</td>\n",
       "    </tr>\n",
       "  </tbody>\n",
       "</table>\n",
       "<p>91 rows × 6 columns</p>\n",
       "</div>"
      ],
      "text/plain": [
       "                                           Nama_Produk  Harga_Produk  \\\n",
       "3                             Kylafood Seblak Original         15750   \n",
       "4    Geli Food Seblak Ceker Tanpa Tulang Super Peda...         24000   \n",
       "5               Seblak Rafael/Seblak Coet Instan Halal         26600   \n",
       "6    Seblak Instan Kenyang Murah Asli Bandung Resel...          7138   \n",
       "7                                  SEBLAK INSTAN MOMMY         13900   \n",
       "..                                                 ...           ...   \n",
       "306                   Seblak Koin Warna Odjolali Snack         11900   \n",
       "337                              SEBLAK INSTAN KOMPLIT          6500   \n",
       "339  KriCa (Keripik Kaca)/ Seblak Beling / Keripik ...         12000   \n",
       "340                         Kerupuk Seblak Pedas 200gr         12250   \n",
       "341      Kylafood Paket 2 Seblak Cup + 2 Basreng pedas         47260   \n",
       "\n",
       "                 Penjual        Kota_Toko  Banyaknya_Terjual  Rating_Produk  \n",
       "3               kylafood          Bandung              10000            4.9  \n",
       "4               Lidigeli       Kab. Garut                100            4.8  \n",
       "5             Foodstocks  Jakarta Selatan                 60            5.0  \n",
       "6    Berkah Food Bandung           Cimahi               7000            4.9  \n",
       "7       Rav Jaya Display   Kab. Tangerang               1000            4.8  \n",
       "..                   ...              ...                ...            ...  \n",
       "306       Odjolali Snack          Bandung                100            5.0  \n",
       "337      Vandiva Kuliner      Kab. Malang                  8            5.0  \n",
       "339       Garut Beunghar       Kab. Garut                 40            5.0  \n",
       "340          Utama.Snack         Surabaya                750            4.9  \n",
       "341             kylafood          Bandung                  3            5.0  \n",
       "\n",
       "[91 rows x 6 columns]"
      ]
     },
     "execution_count": 17,
     "metadata": {},
     "output_type": "execute_result"
    }
   ],
   "source": [
    "# menampilkan data yang telah di cleaning\n",
    "df"
   ]
  },
  {
   "cell_type": "markdown",
   "metadata": {},
   "source": [
    "# C. Business Understanding/Problem Statement"
   ]
  },
  {
   "cell_type": "markdown",
   "metadata": {},
   "source": [
    "**Problem Statment**\n",
    "\n",
    "Meningkatkan penjualan produk seblak di Tokopedia menjadi lebih tinggi penjualannya."
   ]
  },
  {
   "cell_type": "markdown",
   "metadata": {},
   "source": [
    "**`SMART`**\n",
    "\n",
    "> Specific\n",
    "* Meningkatkan penjualan produk seblak di Tokopedia.\n",
    "\n",
    "> Measurment\n",
    "* Menargetkan peningkatan 20% kenaikan penjualan produk seblak dari jumlah produk seblak yang terjual sebelumnya.\n",
    "\n",
    "> Achievable\n",
    "* Melakukan peningkatan kualitas produk seblak selama 1.5 bulan pertama, kemudian melakukan analisis data yang tepat untuk memahami preferensi atau keinginan konsumen di 1.5 bulan berikutnya, dan di bulan ke 4 melakukan optimasi strategi pemasaran online (paid advertisement di social media atau endosrment).\n",
    "\n",
    "> Relevant\n",
    "* Peningkatan kualitas seblak, dan optimasi strategi pemasaran akan memberikan stimulasi terhadap target pasar, dan memberikan dampak positif untuk produk seblak.\n",
    "\n",
    "> Time-Bound\n",
    "* Mencapai peningkatan penjualan minimal 20% dalam waktu empat bulan.\n",
    "\n",
    "> Conclusions\n",
    "* meningkatkan penjualan seblak di tokopedia dengan melakukan improvement produk, analisis keingin konsumen, dan promosi sehingga penjualan dapat naik 20% dalam waktu 4 bulan."
   ]
  },
  {
   "cell_type": "markdown",
   "metadata": {},
   "source": [
    "# D.  Analysis"
   ]
  },
  {
   "cell_type": "markdown",
   "metadata": {},
   "source": [
    "## 1. Analysis diawali dengan menghitung nilai mean, median, modus, standar deviasi, kurtosis dari kolom harga, banyak produk terjual, dan rating produk untuk mengetahui bentuk data apakah ada anomali atau tidak."
   ]
  },
  {
   "cell_type": "markdown",
   "metadata": {},
   "source": [
    "### Harga_Produk"
   ]
  },
  {
   "cell_type": "code",
   "execution_count": 18,
   "metadata": {},
   "outputs": [
    {
     "name": "stdout",
     "output_type": "stream",
     "text": [
      "Mean: 17863.362637362636\n",
      "Median: 13999.0\n",
      "Modus: 9000\n",
      "Standard Deviation: 12727.594332801715\n",
      "Skewness: 1.4991102929778277\n",
      "Kurtosis: 2.2235415582717484\n"
     ]
    }
   ],
   "source": [
    "# menghitung mean,median, dan modus\n",
    "Harga_Produk_mean = df['Harga_Produk'].mean()\n",
    "Harga_Produk_median = df['Harga_Produk'].median()\n",
    "Harga_Produk_modus = df['Harga_Produk'].mode().values[0]\n",
    "\n",
    "# menghitung standar deviasi\n",
    "std_Harga_Produk = df['Harga_Produk'].std()\n",
    "variance_Harga_Produk = df['Harga_Produk'].var()\n",
    "\n",
    "# skewness\n",
    "Skewness_Harga_Produk =  df['Harga_Produk'].skew()\n",
    "\n",
    "# kurtosis\n",
    "Kurtosis_Harga_Produk =  df['Harga_Produk'].kurtosis()\n",
    "\n",
    "print('Mean:',Harga_Produk_mean)\n",
    "print('Median:',Harga_Produk_median)\n",
    "print('Modus:',Harga_Produk_modus)\n",
    "print('Standard Deviation:',std_Harga_Produk)\n",
    "print('Skewness:',Skewness_Harga_Produk)\n",
    "print('Kurtosis:' , Kurtosis_Harga_Produk)"
   ]
  },
  {
   "cell_type": "markdown",
   "metadata": {},
   "source": [
    "dari kolom harga produk rata-rata harga seblak adalah `17863`, nilai tengah harga seblak `13999`, harga seblak banyak dijual di harga `9000`, standar deviasi sebesar `12727` yang artinya terdapat banyak variasi harga produk , skewness sebesar `1.49911` lebih dari 1 artinya positive skew atay highly skewed, dan kurtosis sebesar `2.22354` artinya memiliki bentuk leptokurtic dimana memiliki heavy tails dan higher peak."
   ]
  },
  {
   "cell_type": "markdown",
   "metadata": {},
   "source": [
    "### Banyaknya_Terjual"
   ]
  },
  {
   "cell_type": "code",
   "execution_count": 19,
   "metadata": {},
   "outputs": [
    {
     "name": "stdout",
     "output_type": "stream",
     "text": [
      "Mean: 721.2087912087912\n",
      "Median: 80.0\n",
      "Modus: 100\n",
      "Standard Deviation: 1867.2983664254593\n",
      "Skewness: 3.7657727846211646\n",
      "Kurtosis: 14.65039290461223\n"
     ]
    }
   ],
   "source": [
    "# menghitung mean,median, dan modus\n",
    "Banyaknya_Terjual_mean = df['Banyaknya_Terjual'].mean()\n",
    "Banyaknya_Terjual_median = df['Banyaknya_Terjual'].median()\n",
    "Banyaknya_Terjual_modus = df['Banyaknya_Terjual'].mode().values[0]\n",
    "\n",
    "# menghitung standar deviasi\n",
    "std_Banyaknya_Terjual = df['Banyaknya_Terjual'].std()\n",
    "\n",
    "# skewness\n",
    "Skewness_Banyaknya_Terjual =  df['Banyaknya_Terjual'].skew()\n",
    "\n",
    "# kurtosis\n",
    "Kurtosis_Banyaknya_Terjual =  df['Banyaknya_Terjual'].kurtosis()\n",
    "\n",
    "print('Mean:',Banyaknya_Terjual_mean)\n",
    "print('Median:',Banyaknya_Terjual_median)\n",
    "print('Modus:',Banyaknya_Terjual_modus)\n",
    "print('Standard Deviation:',std_Banyaknya_Terjual)\n",
    "print('Skewness:',Skewness_Banyaknya_Terjual)\n",
    "print('Kurtosis:' , Kurtosis_Banyaknya_Terjual)"
   ]
  },
  {
   "cell_type": "markdown",
   "metadata": {},
   "source": [
    "dari kolom banyaknya terjual rata-rata banyaknya terjual adalah `721.2`, nilai tengah banyaknya terjual `80`, kebanyakan toko telah menjual `100` barang, standar deviasi sebesar `1867.2` yang artinya terdapat banyak variasi dari banyaknya terjual setiap toko, skewness sebesar `3.7657` lebih dari 1 artinya positive skew atay highly skewed, dan kurtosis sebesar `14.650` artinya memiliki bentuk leptokurtic dimana memiliki heavy tails dan higher peak."
   ]
  },
  {
   "cell_type": "markdown",
   "metadata": {},
   "source": [
    "### Rating_Produk"
   ]
  },
  {
   "cell_type": "code",
   "execution_count": 20,
   "metadata": {},
   "outputs": [
    {
     "name": "stdout",
     "output_type": "stream",
     "text": [
      "Mean: 4.890109890109889\n",
      "Median: 4.9\n",
      "Modus: 5.0\n",
      "Standard Deviation: 0.14380151834691005\n",
      "Skewness: -2.0695280800060716\n",
      "Kurtosis: 5.057122413329102\n"
     ]
    }
   ],
   "source": [
    "# menghitung mean,median, dan modus\n",
    "Rating_Produk_mean = df['Rating_Produk'].mean()\n",
    "Rating_Produk_median = df['Rating_Produk'].median()\n",
    "Rating_Produk_modus = df['Rating_Produk'].mode().values[0]\n",
    "\n",
    "# menghitung standar deviasi\n",
    "std_Rating_Produk = df['Rating_Produk'].std()\n",
    "\n",
    "# skewness\n",
    "Skewness_Rating_Produk =  df['Rating_Produk'].skew()\n",
    "\n",
    "# kurtosis\n",
    "Kurtosis_Rating_Produk =  df['Rating_Produk'].kurtosis()\n",
    "\n",
    "print('Mean:',Rating_Produk_mean)\n",
    "print('Median:',Rating_Produk_median)\n",
    "print('Modus:',Rating_Produk_modus)\n",
    "print('Standard Deviation:',std_Rating_Produk)\n",
    "print('Skewness:',Skewness_Rating_Produk)\n",
    "print('Kurtosis:' , Kurtosis_Rating_Produk)"
   ]
  },
  {
   "cell_type": "markdown",
   "metadata": {},
   "source": [
    "dari kolom rating produk rata-rata rating produk adalah `4.890`, nilai tengah rating produk `4.9`, kebanyakan toko mendapat rating `5`, standar deviasi sebesar `0.14` yang artinya variasi dari rating produk setiap toko hampir mirip (tidak berbeda jauh), skewness sebesar `-2.06` lebih dari -1 artinya negative skew atay highly skewed, dan kurtosis sebesar `5.057` artinya memiliki bentuk leptokurtic dimana memiliki heavy tails dan higher peak."
   ]
  },
  {
   "cell_type": "code",
   "execution_count": 21,
   "metadata": {},
   "outputs": [
    {
     "data": {
      "text/html": [
       "<div>\n",
       "<style scoped>\n",
       "    .dataframe tbody tr th:only-of-type {\n",
       "        vertical-align: middle;\n",
       "    }\n",
       "\n",
       "    .dataframe tbody tr th {\n",
       "        vertical-align: top;\n",
       "    }\n",
       "\n",
       "    .dataframe thead th {\n",
       "        text-align: right;\n",
       "    }\n",
       "</style>\n",
       "<table border=\"1\" class=\"dataframe\">\n",
       "  <thead>\n",
       "    <tr style=\"text-align: right;\">\n",
       "      <th></th>\n",
       "      <th>Harga_Produk</th>\n",
       "      <th>Banyaknya_Terjual</th>\n",
       "      <th>Rating_Produk</th>\n",
       "    </tr>\n",
       "  </thead>\n",
       "  <tbody>\n",
       "    <tr>\n",
       "      <th>count</th>\n",
       "      <td>91.000000</td>\n",
       "      <td>91.000000</td>\n",
       "      <td>91.000000</td>\n",
       "    </tr>\n",
       "    <tr>\n",
       "      <th>mean</th>\n",
       "      <td>17863.362637</td>\n",
       "      <td>721.208791</td>\n",
       "      <td>4.890110</td>\n",
       "    </tr>\n",
       "    <tr>\n",
       "      <th>std</th>\n",
       "      <td>12727.594333</td>\n",
       "      <td>1867.298366</td>\n",
       "      <td>0.143802</td>\n",
       "    </tr>\n",
       "    <tr>\n",
       "      <th>min</th>\n",
       "      <td>2500.000000</td>\n",
       "      <td>1.000000</td>\n",
       "      <td>4.300000</td>\n",
       "    </tr>\n",
       "    <tr>\n",
       "      <th>25%</th>\n",
       "      <td>9850.000000</td>\n",
       "      <td>30.000000</td>\n",
       "      <td>4.800000</td>\n",
       "    </tr>\n",
       "    <tr>\n",
       "      <th>50%</th>\n",
       "      <td>13999.000000</td>\n",
       "      <td>80.000000</td>\n",
       "      <td>4.900000</td>\n",
       "    </tr>\n",
       "    <tr>\n",
       "      <th>75%</th>\n",
       "      <td>24112.500000</td>\n",
       "      <td>375.000000</td>\n",
       "      <td>5.000000</td>\n",
       "    </tr>\n",
       "    <tr>\n",
       "      <th>max</th>\n",
       "      <td>64000.000000</td>\n",
       "      <td>10000.000000</td>\n",
       "      <td>5.000000</td>\n",
       "    </tr>\n",
       "  </tbody>\n",
       "</table>\n",
       "</div>"
      ],
      "text/plain": [
       "       Harga_Produk  Banyaknya_Terjual  Rating_Produk\n",
       "count     91.000000          91.000000      91.000000\n",
       "mean   17863.362637         721.208791       4.890110\n",
       "std    12727.594333        1867.298366       0.143802\n",
       "min     2500.000000           1.000000       4.300000\n",
       "25%     9850.000000          30.000000       4.800000\n",
       "50%    13999.000000          80.000000       4.900000\n",
       "75%    24112.500000         375.000000       5.000000\n",
       "max    64000.000000       10000.000000       5.000000"
      ]
     },
     "execution_count": 21,
     "metadata": {},
     "output_type": "execute_result"
    }
   ],
   "source": [
    "# menampilkan describe dari data (count,mean,std,min,max,25%,50%,75%)\n",
    "df.describe()"
   ]
  },
  {
   "cell_type": "markdown",
   "metadata": {},
   "source": [
    "## 2. kemudian analysis berikutnya adalah ingin mengetahui jika saya mecoba menjual seblak dengan permisalan confidence 95% dan permisalan data terdistribusi normal, kira-kira berapa potensi minimum dan maksimum pendapatan dari mejual seblak tersebut."
   ]
  },
  {
   "cell_type": "code",
   "execution_count": 22,
   "metadata": {},
   "outputs": [
    {
     "name": "stdout",
     "output_type": "stream",
     "text": [
      "Lower Limit: 2921511.179371205\n",
      "Upper Limit: 10853461.084365059\n"
     ]
    }
   ],
   "source": [
    "# membuat kolom baru pendapatan dengan banyaknya terjual dikali dengan harga produk\n",
    "df['Pendapatan'] = df['Banyaknya_Terjual']*df['Harga_Produk']\n",
    "\n",
    "# menghitung std kemudian menghitung lower dan upper limit\n",
    "std = df['Pendapatan'].std()\n",
    "N = len(df)\n",
    "low, up = stats.norm.interval(0.95,loc=df['Pendapatan'].mean(),scale=std/np.sqrt(N))\n",
    "print('Lower Limit:',low)\n",
    "print('Upper Limit:',up)"
   ]
  },
  {
   "cell_type": "markdown",
   "metadata": {},
   "source": [
    "potensi minimum pendapatan `2.921.511` dan maksimum pendapatan `10.853.461` jika produk terjual merupakan penjualan produk perbulan dengan confidence level 95%"
   ]
  },
  {
   "cell_type": "markdown",
   "metadata": {},
   "source": [
    "## 3. Menganalysis harga seblak antara di jabodetabek dan di luar jabodetabek berbeda atau sama. Dengan pemikirain bahwa pasti biaya bahan baku di tiap daerah berbeda."
   ]
  },
  {
   "cell_type": "code",
   "execution_count": 23,
   "metadata": {},
   "outputs": [
    {
     "data": {
      "text/plain": [
       "array(['Bandung', 'Kab. Garut', 'Jakarta Selatan', 'Cimahi',\n",
       "       'Kab. Tangerang', 'Depok', 'Jakarta Timur', 'Tangerang Selatan',\n",
       "       'Surabaya', 'Jakarta Barat', 'Kab. Bogor', 'Surakarta',\n",
       "       'Kab. Bandung', 'Kab. Sidoarjo', 'Bekasi', 'Semarang', 'Tangerang',\n",
       "       'Kab. Majalengka', 'Jakarta Pusat', 'Tasikmalaya', 'Kab. Jombang',\n",
       "       'Banjarbaru', 'Serang', 'Kab. Malang'], dtype=object)"
      ]
     },
     "execution_count": 23,
     "metadata": {},
     "output_type": "execute_result"
    }
   ],
   "source": [
    "# menampilkan value dari kolom Kota_Toko\n",
    "df['Kota_Toko'].unique()"
   ]
  },
  {
   "cell_type": "markdown",
   "metadata": {},
   "source": [
    "analisis harga antara daerah jabodetabek dan daerah luar jabodetabek"
   ]
  },
  {
   "cell_type": "code",
   "execution_count": 24,
   "metadata": {},
   "outputs": [
    {
     "data": {
      "text/html": [
       "<div>\n",
       "<style scoped>\n",
       "    .dataframe tbody tr th:only-of-type {\n",
       "        vertical-align: middle;\n",
       "    }\n",
       "\n",
       "    .dataframe tbody tr th {\n",
       "        vertical-align: top;\n",
       "    }\n",
       "\n",
       "    .dataframe thead th {\n",
       "        text-align: right;\n",
       "    }\n",
       "</style>\n",
       "<table border=\"1\" class=\"dataframe\">\n",
       "  <thead>\n",
       "    <tr style=\"text-align: right;\">\n",
       "      <th></th>\n",
       "      <th>Banyaknya_Terjual</th>\n",
       "    </tr>\n",
       "    <tr>\n",
       "      <th>Kota_Toko</th>\n",
       "      <th></th>\n",
       "    </tr>\n",
       "  </thead>\n",
       "  <tbody>\n",
       "    <tr>\n",
       "      <th>Bandung</th>\n",
       "      <td>10274</td>\n",
       "    </tr>\n",
       "    <tr>\n",
       "      <th>Banjarbaru</th>\n",
       "      <td>11</td>\n",
       "    </tr>\n",
       "    <tr>\n",
       "      <th>Bekasi</th>\n",
       "      <td>28</td>\n",
       "    </tr>\n",
       "    <tr>\n",
       "      <th>Cimahi</th>\n",
       "      <td>14000</td>\n",
       "    </tr>\n",
       "    <tr>\n",
       "      <th>Depok</th>\n",
       "      <td>740</td>\n",
       "    </tr>\n",
       "    <tr>\n",
       "      <th>Jakarta Barat</th>\n",
       "      <td>5796</td>\n",
       "    </tr>\n",
       "    <tr>\n",
       "      <th>Jakarta Pusat</th>\n",
       "      <td>6</td>\n",
       "    </tr>\n",
       "    <tr>\n",
       "      <th>Jakarta Selatan</th>\n",
       "      <td>1690</td>\n",
       "    </tr>\n",
       "    <tr>\n",
       "      <th>Jakarta Timur</th>\n",
       "      <td>13280</td>\n",
       "    </tr>\n",
       "    <tr>\n",
       "      <th>Kab. Bandung</th>\n",
       "      <td>100</td>\n",
       "    </tr>\n",
       "    <tr>\n",
       "      <th>Kab. Bogor</th>\n",
       "      <td>215</td>\n",
       "    </tr>\n",
       "    <tr>\n",
       "      <th>Kab. Garut</th>\n",
       "      <td>6371</td>\n",
       "    </tr>\n",
       "    <tr>\n",
       "      <th>Kab. Jombang</th>\n",
       "      <td>11</td>\n",
       "    </tr>\n",
       "    <tr>\n",
       "      <th>Kab. Majalengka</th>\n",
       "      <td>8</td>\n",
       "    </tr>\n",
       "    <tr>\n",
       "      <th>Kab. Malang</th>\n",
       "      <td>8</td>\n",
       "    </tr>\n",
       "    <tr>\n",
       "      <th>Kab. Sidoarjo</th>\n",
       "      <td>50</td>\n",
       "    </tr>\n",
       "    <tr>\n",
       "      <th>Kab. Tangerang</th>\n",
       "      <td>1004</td>\n",
       "    </tr>\n",
       "    <tr>\n",
       "      <th>Semarang</th>\n",
       "      <td>250</td>\n",
       "    </tr>\n",
       "    <tr>\n",
       "      <th>Serang</th>\n",
       "      <td>8</td>\n",
       "    </tr>\n",
       "    <tr>\n",
       "      <th>Surabaya</th>\n",
       "      <td>1490</td>\n",
       "    </tr>\n",
       "    <tr>\n",
       "      <th>Surakarta</th>\n",
       "      <td>100</td>\n",
       "    </tr>\n",
       "    <tr>\n",
       "      <th>Tangerang</th>\n",
       "      <td>406</td>\n",
       "    </tr>\n",
       "    <tr>\n",
       "      <th>Tangerang Selatan</th>\n",
       "      <td>9754</td>\n",
       "    </tr>\n",
       "    <tr>\n",
       "      <th>Tasikmalaya</th>\n",
       "      <td>30</td>\n",
       "    </tr>\n",
       "  </tbody>\n",
       "</table>\n",
       "</div>"
      ],
      "text/plain": [
       "                   Banyaknya_Terjual\n",
       "Kota_Toko                           \n",
       "Bandung                        10274\n",
       "Banjarbaru                        11\n",
       "Bekasi                            28\n",
       "Cimahi                         14000\n",
       "Depok                            740\n",
       "Jakarta Barat                   5796\n",
       "Jakarta Pusat                      6\n",
       "Jakarta Selatan                 1690\n",
       "Jakarta Timur                  13280\n",
       "Kab. Bandung                     100\n",
       "Kab. Bogor                       215\n",
       "Kab. Garut                      6371\n",
       "Kab. Jombang                      11\n",
       "Kab. Majalengka                    8\n",
       "Kab. Malang                        8\n",
       "Kab. Sidoarjo                     50\n",
       "Kab. Tangerang                  1004\n",
       "Semarang                         250\n",
       "Serang                             8\n",
       "Surabaya                        1490\n",
       "Surakarta                        100\n",
       "Tangerang                        406\n",
       "Tangerang Selatan               9754\n",
       "Tasikmalaya                       30"
      ]
     },
     "execution_count": 24,
     "metadata": {},
     "output_type": "execute_result"
    }
   ],
   "source": [
    "# menampilkan tabel jumlah value dari banyaknya produk terjual dengan hanya menampilkan kolom kota_toko dan banyaknya_terjual dengan diurutkan berdasarkan nama toko\n",
    "kota_terjual = df[['Kota_Toko','Banyaknya_Terjual']].groupby('Kota_Toko').sum()\n",
    "kota_terjual"
   ]
  },
  {
   "cell_type": "markdown",
   "metadata": {},
   "source": [
    "saya akan menggunakan `Two-Sample Independent Test`. karena ada dua kondisi"
   ]
  },
  {
   "cell_type": "code",
   "execution_count": 25,
   "metadata": {},
   "outputs": [
    {
     "data": {
      "text/html": [
       "<div>\n",
       "<style scoped>\n",
       "    .dataframe tbody tr th:only-of-type {\n",
       "        vertical-align: middle;\n",
       "    }\n",
       "\n",
       "    .dataframe tbody tr th {\n",
       "        vertical-align: top;\n",
       "    }\n",
       "\n",
       "    .dataframe thead th {\n",
       "        text-align: right;\n",
       "    }\n",
       "</style>\n",
       "<table border=\"1\" class=\"dataframe\">\n",
       "  <thead>\n",
       "    <tr style=\"text-align: right;\">\n",
       "      <th></th>\n",
       "      <th>Nama_Produk</th>\n",
       "      <th>Harga_Produk</th>\n",
       "      <th>Penjual</th>\n",
       "      <th>Kota_Toko</th>\n",
       "      <th>Banyaknya_Terjual</th>\n",
       "      <th>Rating_Produk</th>\n",
       "      <th>Pendapatan</th>\n",
       "    </tr>\n",
       "  </thead>\n",
       "  <tbody>\n",
       "    <tr>\n",
       "      <th>5</th>\n",
       "      <td>Seblak Rafael/Seblak Coet Instan Halal</td>\n",
       "      <td>26600</td>\n",
       "      <td>Foodstocks</td>\n",
       "      <td>Jakarta Selatan</td>\n",
       "      <td>60</td>\n",
       "      <td>5.0</td>\n",
       "      <td>1596000</td>\n",
       "    </tr>\n",
       "    <tr>\n",
       "      <th>7</th>\n",
       "      <td>SEBLAK INSTAN MOMMY</td>\n",
       "      <td>13900</td>\n",
       "      <td>Rav Jaya Display</td>\n",
       "      <td>Kab. Tangerang</td>\n",
       "      <td>1000</td>\n",
       "      <td>4.8</td>\n",
       "      <td>13900000</td>\n",
       "    </tr>\n",
       "    <tr>\n",
       "      <th>8</th>\n",
       "      <td>Seblak Rafael, Seblak Coet Instan Halal</td>\n",
       "      <td>23750</td>\n",
       "      <td>Brother Meat Shop</td>\n",
       "      <td>Depok</td>\n",
       "      <td>500</td>\n",
       "      <td>4.9</td>\n",
       "      <td>11875000</td>\n",
       "    </tr>\n",
       "    <tr>\n",
       "      <th>9</th>\n",
       "      <td>SEBLAK INSTANT TERMURAH</td>\n",
       "      <td>4450</td>\n",
       "      <td>Pusat Cuankie &amp; Cemilan Frozen</td>\n",
       "      <td>Jakarta Timur</td>\n",
       "      <td>10000</td>\n",
       "      <td>4.8</td>\n",
       "      <td>44500000</td>\n",
       "    </tr>\n",
       "    <tr>\n",
       "      <th>10</th>\n",
       "      <td>Seblak Instan Pedas Home Made</td>\n",
       "      <td>3500</td>\n",
       "      <td>the Dhecip</td>\n",
       "      <td>Tangerang Selatan</td>\n",
       "      <td>3000</td>\n",
       "      <td>4.9</td>\n",
       "      <td>10500000</td>\n",
       "    </tr>\n",
       "  </tbody>\n",
       "</table>\n",
       "</div>"
      ],
      "text/plain": [
       "                                Nama_Produk  Harga_Produk  \\\n",
       "5    Seblak Rafael/Seblak Coet Instan Halal         26600   \n",
       "7                       SEBLAK INSTAN MOMMY         13900   \n",
       "8   Seblak Rafael, Seblak Coet Instan Halal         23750   \n",
       "9                   SEBLAK INSTANT TERMURAH          4450   \n",
       "10            Seblak Instan Pedas Home Made          3500   \n",
       "\n",
       "                           Penjual          Kota_Toko  Banyaknya_Terjual  \\\n",
       "5                       Foodstocks    Jakarta Selatan                 60   \n",
       "7                 Rav Jaya Display     Kab. Tangerang               1000   \n",
       "8                Brother Meat Shop              Depok                500   \n",
       "9   Pusat Cuankie & Cemilan Frozen      Jakarta Timur              10000   \n",
       "10                      the Dhecip  Tangerang Selatan               3000   \n",
       "\n",
       "    Rating_Produk  Pendapatan  \n",
       "5             5.0     1596000  \n",
       "7             4.8    13900000  \n",
       "8             4.9    11875000  \n",
       "9             4.8    44500000  \n",
       "10            4.9    10500000  "
      ]
     },
     "execution_count": 25,
     "metadata": {},
     "output_type": "execute_result"
    }
   ],
   "source": [
    "# menampilkan tabel dengan hanya kota jabodetabek\n",
    "jabodetabek = df[(df[\"Kota_Toko\"]=='Jakarta Selatan') | \n",
    "                 (df[\"Kota_Toko\"]=='Kab. Tangerang') | \n",
    "                 (df[\"Kota_Toko\"]=='Depok') | \n",
    "                 (df[\"Kota_Toko\"]=='Jakarta Timur') | \n",
    "                 (df[\"Kota_Toko\"]=='Tangerang Selatan') | \n",
    "                 (df[\"Kota_Toko\"]=='Jakarta Barat') | \n",
    "                 (df[\"Kota_Toko\"]=='Kab. Bogor') |\n",
    "                 (df[\"Kota_Toko\"]=='Bekasi') |\n",
    "                 (df[\"Kota_Toko\"]=='Tangerang') |\n",
    "                 (df[\"Kota_Toko\"]=='Jakarta Pusat')]\n",
    "\n",
    "jabodetabek.head()"
   ]
  },
  {
   "cell_type": "code",
   "execution_count": 26,
   "metadata": {},
   "outputs": [
    {
     "data": {
      "text/html": [
       "<div>\n",
       "<style scoped>\n",
       "    .dataframe tbody tr th:only-of-type {\n",
       "        vertical-align: middle;\n",
       "    }\n",
       "\n",
       "    .dataframe tbody tr th {\n",
       "        vertical-align: top;\n",
       "    }\n",
       "\n",
       "    .dataframe thead th {\n",
       "        text-align: right;\n",
       "    }\n",
       "</style>\n",
       "<table border=\"1\" class=\"dataframe\">\n",
       "  <thead>\n",
       "    <tr style=\"text-align: right;\">\n",
       "      <th></th>\n",
       "      <th>Nama_Produk</th>\n",
       "      <th>Harga_Produk</th>\n",
       "      <th>Penjual</th>\n",
       "      <th>Kota_Toko</th>\n",
       "      <th>Banyaknya_Terjual</th>\n",
       "      <th>Rating_Produk</th>\n",
       "      <th>Pendapatan</th>\n",
       "    </tr>\n",
       "  </thead>\n",
       "  <tbody>\n",
       "    <tr>\n",
       "      <th>3</th>\n",
       "      <td>Kylafood Seblak Original</td>\n",
       "      <td>15750</td>\n",
       "      <td>kylafood</td>\n",
       "      <td>Bandung</td>\n",
       "      <td>10000</td>\n",
       "      <td>4.9</td>\n",
       "      <td>157500000</td>\n",
       "    </tr>\n",
       "    <tr>\n",
       "      <th>4</th>\n",
       "      <td>Geli Food Seblak Ceker Tanpa Tulang Super Peda...</td>\n",
       "      <td>24000</td>\n",
       "      <td>Lidigeli</td>\n",
       "      <td>Kab. Garut</td>\n",
       "      <td>100</td>\n",
       "      <td>4.8</td>\n",
       "      <td>2400000</td>\n",
       "    </tr>\n",
       "    <tr>\n",
       "      <th>6</th>\n",
       "      <td>Seblak Instan Kenyang Murah Asli Bandung Resel...</td>\n",
       "      <td>7138</td>\n",
       "      <td>Berkah Food Bandung</td>\n",
       "      <td>Cimahi</td>\n",
       "      <td>7000</td>\n",
       "      <td>4.9</td>\n",
       "      <td>49966000</td>\n",
       "    </tr>\n",
       "    <tr>\n",
       "      <th>11</th>\n",
       "      <td>Cuanki Lidah Topping Baso Aci Seblak Isi 50 Biji</td>\n",
       "      <td>13000</td>\n",
       "      <td>Pedas Gilaa</td>\n",
       "      <td>Surabaya</td>\n",
       "      <td>60</td>\n",
       "      <td>4.9</td>\n",
       "      <td>780000</td>\n",
       "    </tr>\n",
       "    <tr>\n",
       "      <th>21</th>\n",
       "      <td>SEBRING KRUPUK KERUPUK SEBLAK KERING PEDAS DAU...</td>\n",
       "      <td>16000</td>\n",
       "      <td>Aydaa Snack</td>\n",
       "      <td>Surakarta</td>\n",
       "      <td>100</td>\n",
       "      <td>4.9</td>\n",
       "      <td>1600000</td>\n",
       "    </tr>\n",
       "  </tbody>\n",
       "</table>\n",
       "</div>"
      ],
      "text/plain": [
       "                                          Nama_Produk  Harga_Produk  \\\n",
       "3                            Kylafood Seblak Original         15750   \n",
       "4   Geli Food Seblak Ceker Tanpa Tulang Super Peda...         24000   \n",
       "6   Seblak Instan Kenyang Murah Asli Bandung Resel...          7138   \n",
       "11   Cuanki Lidah Topping Baso Aci Seblak Isi 50 Biji         13000   \n",
       "21  SEBRING KRUPUK KERUPUK SEBLAK KERING PEDAS DAU...         16000   \n",
       "\n",
       "                Penjual   Kota_Toko  Banyaknya_Terjual  Rating_Produk  \\\n",
       "3              kylafood     Bandung              10000            4.9   \n",
       "4              Lidigeli  Kab. Garut                100            4.8   \n",
       "6   Berkah Food Bandung      Cimahi               7000            4.9   \n",
       "11          Pedas Gilaa    Surabaya                 60            4.9   \n",
       "21          Aydaa Snack   Surakarta                100            4.9   \n",
       "\n",
       "    Pendapatan  \n",
       "3    157500000  \n",
       "4      2400000  \n",
       "6     49966000  \n",
       "11      780000  \n",
       "21     1600000  "
      ]
     },
     "execution_count": 26,
     "metadata": {},
     "output_type": "execute_result"
    }
   ],
   "source": [
    "# menampilkan tabel dengan hanya kota luar jabodetabek\n",
    "non_jabodetabek = df[(df[\"Kota_Toko\"]=='Bandung') | \n",
    "                       (df[\"Kota_Toko\"]=='Kab. Garut') | \n",
    "                       (df[\"Kota_Toko\"]=='Cimahi') | \n",
    "                       (df[\"Kota_Toko\"]=='Surabaya') | \n",
    "                       (df[\"Kota_Toko\"]=='Surakarta') | \n",
    "                       (df[\"Kota_Toko\"]=='Kab. Sidoarjo') | \n",
    "                       (df[\"Kota_Toko\"]=='Semarang') |\n",
    "                       (df[\"Kota_Toko\"]=='Kab. Majalengka') |\n",
    "                       (df[\"Kota_Toko\"]=='Tasikmalaya') |\n",
    "                       (df[\"Kota_Toko\"]=='Kab. Jombang') |\n",
    "                       (df[\"Kota_Toko\"]=='Banjarbaru') |\n",
    "                       (df[\"Kota_Toko\"]=='Serang') |\n",
    "                       (df[\"Kota_Toko\"]=='Kab. Malang') |\n",
    "                       (df[\"Kota_Toko\"]=='Kab. Bandung')]\n",
    "\n",
    "non_jabodetabek.head()"
   ]
  },
  {
   "cell_type": "code",
   "execution_count": 27,
   "metadata": {},
   "outputs": [
    {
     "name": "stdout",
     "output_type": "stream",
     "text": [
      "rata-rata harga produk di jabodetabek = 18638.88888888889\n"
     ]
    }
   ],
   "source": [
    "# nama kota yang ada di jabodetabek\n",
    "jabodetabek_nama = ['Jakarta Selatan', 'Kab. Tangerang', 'Depok', 'Jakarta Timur', \n",
    "'Tangerang Selatan', 'Jakarta Barat', 'Kab. Bogor',\n",
    "'Bekasi', 'Tangerang', 'Jakarta Pusat']\n",
    "\n",
    "# menghitung rata-rata harga produk dari kota jabodetabek\n",
    "jabodetabek = df[df[\"Kota_Toko\"].isin(jabodetabek_nama)]\n",
    "jabodetabek_rata2 = jabodetabek['Harga_Produk'].mean()\n",
    "print(f'rata-rata harga produk di jabodetabek =', jabodetabek_rata2)"
   ]
  },
  {
   "cell_type": "code",
   "execution_count": 28,
   "metadata": {},
   "outputs": [
    {
     "name": "stdout",
     "output_type": "stream",
     "text": [
      "rata-rata harga produk di jabodetabek = 16731.513513513513\n"
     ]
    }
   ],
   "source": [
    "# nama kota yang ada di luar jabodetabek\n",
    "non_jabodetabek_nama = ['Bandung', 'Kab. Garut', 'Cimahi',\n",
    "'Surabaya',  'Surakarta',\n",
    "'Kab. Sidoarjo',  'Semarang', \n",
    "'Kab. Majalengka',  'Tasikmalaya', 'Kab. Jombang',\n",
    "'Banjarbaru', 'Serang', 'Kab. Malang', 'Kab. Bandung']\n",
    "\n",
    "# menghitung rata-rata harga produk dari kota luar jabodetabek\n",
    "non_jabodetabek = df[df[\"Kota_Toko\"].isin(non_jabodetabek_nama)]\n",
    "non_jabodetabek_rata2 = non_jabodetabek['Harga_Produk'].mean()\n",
    "print(f'rata-rata harga produk di jabodetabek =', non_jabodetabek_rata2)"
   ]
  },
  {
   "cell_type": "markdown",
   "metadata": {},
   "source": [
    "rata-rata harga seblak di jabodetabek = `18638.88` dan rata-rata harga seblak di luar jabodetabek = `16731.51`, tidak berbeda jauh hanya beda 2000. tapi agar lebih yakin langkah selanjutnya dibuktikan dengan menghitung Two-Sample Independent Test"
   ]
  },
  {
   "cell_type": "markdown",
   "metadata": {},
   "source": [
    "hipotesis :\n",
    "\n",
    "> H0: Harga produk di jabodetabek sama dengan harga produk di luar jabodetabek\n",
    "\n",
    "> H1: Harga produk di jabodetabek tidak sama dengan harga produk di luar jabodetabek"
   ]
  },
  {
   "cell_type": "code",
   "execution_count": 29,
   "metadata": {},
   "outputs": [
    {
     "name": "stdout",
     "output_type": "stream",
     "text": [
      "T-Statistic: 0.7002185869489953\n",
      "P-value: 0.4856172192252417\n"
     ]
    }
   ],
   "source": [
    "t_stat, p_val = stats.ttest_ind(jabodetabek['Harga_Produk'],non_jabodetabek['Harga_Produk'])\n",
    "print('T-Statistic:',t_stat)\n",
    "print('P-value:',p_val)"
   ]
  },
  {
   "cell_type": "markdown",
   "metadata": {},
   "source": [
    "p-value lebih besar dari 0.05 saya menyimpulkan bahwa tidak dapat menolak hipotenis null, yang berarti tidak terdapat perbedaan harga yang terlalu jauh atau harga bisa saja sama antara harga produk di jabodetabek dan harga produk di luar jabodetabek."
   ]
  },
  {
   "cell_type": "markdown",
   "metadata": {},
   "source": [
    "## 4. Kemudian muncul pertanyaan berikutnya setelah mengetahui harga antara jabodetabek dan luar jabodetabek hampir sama, apakah produk dengan harga yang lebih murah akan lebih banyak terjual?"
   ]
  },
  {
   "cell_type": "code",
   "execution_count": 30,
   "metadata": {},
   "outputs": [
    {
     "name": "stdout",
     "output_type": "stream",
     "text": [
      "rho-correlation: -0.45, p-value: 6.275982461404158e-06\n"
     ]
    }
   ],
   "source": [
    "# memakai sprearmanr karena kedua data distribusi tidak normal\n",
    "corr_rho, pval_s = stats.spearmanr(df['Harga_Produk'], df['Banyaknya_Terjual'])\n",
    "\n",
    "print(f\"rho-correlation: {corr_rho:.2f}, p-value: {pval_s}\")"
   ]
  },
  {
   "cell_type": "markdown",
   "metadata": {},
   "source": [
    "p-value digunakan untuk memberikan informasi apakah korelasi tersebut nyata atau hanya kebetulan atau tidak signifikan. Jika p-value  > 0.05 maka hanya kebetulan atau tidak signifikan, sedangkan jika p-value < 0.05 maka korelasi nyata.\n",
    "\n",
    "p-value <  0.05 maka korelasi antara harga produk dan banyaknya terjual bersifat `nyata`. Tetapi korelasi negattif yang artinya semakin murah harga produk seblak maka semakin banyak yang terjual."
   ]
  },
  {
   "cell_type": "markdown",
   "metadata": {},
   "source": [
    "# E. Conclusion"
   ]
  },
  {
   "cell_type": "markdown",
   "metadata": {},
   "source": [
    "Berdasarkan analisis yang telah dilakukan penjualan seblak di tokopedia:\n",
    " * rata-rata harga seblak yang dijual di tokopedia adalah Rp17.863\n",
    " * dengan rata-rata ratingnya 4.89, dapat dikatakan orang-orang menyukai produk seblak yang dijual\n",
    " * dengan rata-rata seblak terjual adalah 721.2 seblak, dapat dikatakan banyak orang yang membeli seblak di tokopedia\n",
    " * lebih banyak seblak yang terjual jika harganya lebih murah\n",
    " * Penjualan di jabodetabek dan di luar jabodetabek memiliki harga yang sama ataupun hampir sama walaupun biaya bahan baku di kedua lokasi berbeda\n",
    " * Jika saya memulai menjual seblak di tokopedia pendapatan minimal saya adalah Rp2.921.511 dan pendapatan maksimumnya Rp10.853.461 dalam waktu 1 bulan\n",
    "\n",
    "> Dari data-data diatas saya dapat memulai berjualan seblak dengan mengetahui bagaimana marketnya di tokopedia sehingga saat berjualan saya sudah mengetahui harus dijual dengan harga berapa, variasi harga yang saya bisa gunakan agar seblak yang saya jual nanti dapat laku dan menguntungkan."
   ]
  }
 ],
 "metadata": {
  "kernelspec": {
   "display_name": "base",
   "language": "python",
   "name": "python3"
  },
  "language_info": {
   "codemirror_mode": {
    "name": "ipython",
    "version": 3
   },
   "file_extension": ".py",
   "mimetype": "text/x-python",
   "name": "python",
   "nbconvert_exporter": "python",
   "pygments_lexer": "ipython3",
   "version": "3.11.7"
  }
 },
 "nbformat": 4,
 "nbformat_minor": 2
}
